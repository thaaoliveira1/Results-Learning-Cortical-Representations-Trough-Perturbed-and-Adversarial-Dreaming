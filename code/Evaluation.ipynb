{
 "cells": [
  {
   "cell_type": "code",
   "execution_count": 56,
   "metadata": {},
   "outputs": [],
   "source": [
    "from __future__ import print_function\n",
    "import argparse\n",
    "import os\n",
    "import numpy as np\n",
    "import torch.optim as optim\n",
    "import matplotlib.pyplot as plt\n",
    "import seaborn as sns\n",
    "from sklearn.metrics import confusion_matrix\n",
    "import torch.utils.data\n",
    "import torchvision.utils as vutils\n",
    "from torch.autograd import Variable\n",
    "from functions import *\n",
    "from model import *"
   ]
  },
  {
   "cell_type": "code",
   "execution_count": 40,
   "metadata": {},
   "outputs": [
    {
     "name": "stdout",
     "output_type": "stream",
     "text": [
      "Namespace(dataset='cifar10', dataroot='./datasets/', workers=2, batchSize=64, imageSize=32, nz=256, niterC=20, nf=64, drop=0.0, lrC=0.2, ngpu=1, outf='output', num_classes=10, gpu_id='0')\n"
     ]
    }
   ],
   "source": [
    "parser = argparse.ArgumentParser()\n",
    "parser.add_argument('--dataset', default='cifar10', help='cifar10 | imagenet | mnist')\n",
    "parser.add_argument('--dataroot', default='./datasets/', help='path to dataset')\n",
    "parser.add_argument('--workers', type=int, help='number of data loading workers', default=2)\n",
    "parser.add_argument('--batchSize', type=int, default=64, help='input batch size')\n",
    "parser.add_argument('--imageSize', type=int, default=32, help='the height / width of the input image to network')\n",
    "parser.add_argument('--nz', type=int, default=256, help='size of the latent z vector')\n",
    "parser.add_argument('--niterC', type=int, default=20, help='number of epochs to train the classifier')\n",
    "parser.add_argument('--nf', type=int, default=64, help='filters factor')\n",
    "parser.add_argument('--drop', type=float, default=0.0, help='probably of drop out')\n",
    "parser.add_argument('--lrC', type=float, default=0.2, help='learning rate of the classifier, default=0.0002')\n",
    "parser.add_argument('--ngpu', type=int, default=1, help='number of GPUs to use')\n",
    "parser.add_argument('--outf', default='output', help='folder to output images and model checkpoints')\n",
    "parser.add_argument('--num_classes', type=int, default=10, help='Number of classes for AC-GAN')\n",
    "parser.add_argument('--gpu_id', type=str, default='0', help='The ID of the specified GPU')\n",
    "\n",
    "opt, unknown = parser.parse_known_args()\n",
    "print(opt)"
   ]
  },
  {
   "cell_type": "code",
   "execution_count": 41,
   "metadata": {},
   "outputs": [],
   "source": [
    "# specify the gpu id if using only 1 gpu\n",
    "os.environ['CUDA_VISIBLE_DEVICES'] = opt.gpu_id\n",
    "\n",
    "dir_files = './results/'+opt.dataset+'/'+opt.outf\n",
    "dir_checkpoint = './checkpoints/'+opt.dataset+'/'+opt.outf\n",
    "try:\n",
    "    os.makedirs(dir_files)\n",
    "except OSError:\n",
    "    pass\n",
    "try:\n",
    "    os.makedirs(dir_checkpoint)\n",
    "except OSError:\n",
    "    pass\n",
    "    \n",
    "\n",
    "device = torch.device('cuda:0' if torch.cuda.is_available() else 'cpu')\n",
    "\n",
    "if opt.dataset == 'cifar10':\n",
    "    n_train = 50000\n",
    "    n_test = 10000\n",
    "elif opt.dataset == 'svhn':\n",
    "    n_train = 73257\n",
    "    n_test = 26032"
   ]
  },
  {
   "cell_type": "code",
   "execution_count": 42,
   "metadata": {},
   "outputs": [],
   "source": [
    "# get train dataset\n",
    "dataset, unorm, img_channels = get_dataset(dataset_name=opt.dataset, dataroot=opt.dataroot, imageSize=opt.imageSize, is_train=True, drop_rate=0.0)\n",
    "train_dataloader = torch.utils.data.DataLoader(dataset, batch_size=n_train, shuffle=True, num_workers=int(opt.workers), drop_last=True)\n",
    "\n",
    "# get test dataset\n",
    "test_dataset, unorm, img_channels = get_dataset(dataset_name=opt.dataset, dataroot=opt.dataroot, imageSize=opt.imageSize, is_train=False, drop_rate=0.0)\n",
    "test_dataloader = torch.utils.data.DataLoader(test_dataset, batch_size=n_test, shuffle=False, num_workers=int(opt.workers), drop_last=True)"
   ]
  },
  {
   "cell_type": "code",
   "execution_count": 43,
   "metadata": {},
   "outputs": [
    {
     "data": {
      "text/plain": [
       "Generator(\n",
       "  (tconv1): Sequential(\n",
       "    (0): ConvTranspose2d(256, 256, kernel_size=(4, 4), stride=(1, 1))\n",
       "    (1): LeakyReLU(negative_slope=0.2, inplace=True)\n",
       "  )\n",
       "  (tconv2): Sequential(\n",
       "    (0): ConvTranspose2d(256, 128, kernel_size=(4, 4), stride=(2, 2), padding=(1, 1))\n",
       "    (1): LeakyReLU(negative_slope=0.2, inplace=True)\n",
       "  )\n",
       "  (tconv3): Sequential(\n",
       "    (0): ConvTranspose2d(128, 64, kernel_size=(4, 4), stride=(2, 2), padding=(1, 1))\n",
       "    (1): LeakyReLU(negative_slope=0.2, inplace=True)\n",
       "  )\n",
       "  (tconv4): Sequential(\n",
       "    (0): ConvTranspose2d(64, 3, kernel_size=(4, 4), stride=(2, 2), padding=(1, 1))\n",
       "    (1): Tanh()\n",
       "  )\n",
       ")"
      ]
     },
     "execution_count": 43,
     "metadata": {},
     "output_type": "execute_result"
    }
   ],
   "source": [
    "# some hyper parameters\n",
    "ngpu = int(opt.ngpu)\n",
    "nz = int(opt.nz)\n",
    "num_classes = int(opt.num_classes)\n",
    "batch_size = opt.batchSize\n",
    "\n",
    "# initiate networks\n",
    "netG = Generator(ngpu, latent_dim=nz, ngf=opt.nf, img_channels=img_channels)\n",
    "netG.apply(initialize_weights)\n",
    "netD = Discriminator(ngpu, latent_dim=nz, ndf=opt.nf, img_channels=img_channels)\n",
    "netD.apply(initialize_weights)\n",
    "# send to GPU\n",
    "netD.to(device)\n",
    "netG.to(device)"
   ]
  },
  {
   "cell_type": "code",
   "execution_count": 44,
   "metadata": {},
   "outputs": [
    {
     "name": "stdout",
     "output_type": "stream",
     "text": [
      "Loading pre-trained model...\n",
      "Use loaded model...\n"
     ]
    }
   ],
   "source": [
    "if os.path.exists(dir_checkpoint+'/trained.pth'):\n",
    "    # Load data from last checkpoint\n",
    "    print('Loading pre-trained model...')\n",
    "    checkpoint = torch.load(dir_checkpoint+'/trained.pth', map_location='cpu')\n",
    "    netG.load_state_dict(checkpoint['generator'])\n",
    "    netD.load_state_dict(checkpoint['discriminator'])\n",
    "    d_losses = checkpoint.get('d_losses', [float('inf')])\n",
    "    g_losses = checkpoint.get('g_losses', [float('inf')])\n",
    "    r_losses = checkpoint.get('r_losses', [float('inf')])\n",
    "    print('Use loaded model...')\n",
    "else:\n",
    "    print('No pre-trained model detected, use randomly initialized network...')"
   ]
  },
  {
   "cell_type": "code",
   "execution_count": 45,
   "metadata": {},
   "outputs": [
    {
     "name": "stdout",
     "output_type": "stream",
     "text": [
      "Loading accuracies...\n"
     ]
    }
   ],
   "source": [
    "train_accuracies = []\n",
    "test_accuracies = []\n",
    "train_losses = []\n",
    "test_losses = []\n",
    "\n",
    "if os.path.exists(dir_files+'/accuracies.pth'):\n",
    "    # Load data from last checkpoint\n",
    "    print('Loading accuracies...')\n",
    "    checkpoint = torch.load(dir_files+'/accuracies.pth', map_location='cpu')\n",
    "    train_accuracies = checkpoint.get('train_accuracies', [float('inf')])\n",
    "    test_accuracies = checkpoint.get('test_accuracies', [float('inf')])\n",
    "    train_losses = checkpoint.get('train_losses', [float('inf')])\n",
    "    test_losses = checkpoint.get('test_losses', [float('inf')])\n",
    "else:\n",
    "    print('No accuracies found...')"
   ]
  },
  {
   "cell_type": "code",
   "execution_count": 46,
   "metadata": {},
   "outputs": [
    {
     "name": "stdout",
     "output_type": "stream",
     "text": [
      "Storing training representations ...\n"
     ]
    }
   ],
   "source": [
    "# project all train images on latent space\n",
    "print(\"Storing training representations ...\")\n",
    "image, label = next(iter(train_dataloader))\n",
    "image, label = image.to(device), label.to(device)\n",
    "netD.eval()\n",
    "with torch.no_grad():\n",
    "    latent_output, _ = netD(image)\n",
    "    train_features = latent_output.cpu()\n",
    "    train_labels = label.cpu().long()"
   ]
  },
  {
   "cell_type": "code",
   "execution_count": 47,
   "metadata": {},
   "outputs": [
    {
     "name": "stdout",
     "output_type": "stream",
     "text": [
      "Storing validation representations ...\n"
     ]
    }
   ],
   "source": [
    "# project all test images on latent space\n",
    "print(\"Storing validation representations ...\")\n",
    "image, label = next(iter(test_dataloader))\n",
    "image, label = image.to(device), label.to(device)\n",
    "netD.eval()\n",
    "with torch.no_grad():\n",
    "    latent_output, _ = netD(image)\n",
    "    test_features = latent_output.cpu()\n",
    "    test_labels = label.cpu().long()"
   ]
  },
  {
   "cell_type": "code",
   "execution_count": 48,
   "metadata": {},
   "outputs": [],
   "source": [
    "# create new datasets of latent vectors\n",
    "linear_train_dataset = torch.utils.data.TensorDataset(train_features, train_labels)\n",
    "linear_test_dataset = torch.utils.data.TensorDataset(test_features, test_labels)\n",
    "# create new dataloaders of latent vectors\n",
    "linear_train_loader = torch.utils.data.DataLoader(linear_train_dataset, batch_size=batch_size, shuffle=True, num_workers=opt.workers, drop_last=True)\n",
    "linear_test_loader = torch.utils.data.DataLoader(linear_test_dataset, batch_size=batch_size, shuffle=False, num_workers=opt.workers, drop_last=True)\n"
   ]
  },
  {
   "cell_type": "code",
   "execution_count": 49,
   "metadata": {},
   "outputs": [],
   "source": [
    "# nb of epochs to train linear classifier\n",
    "n_epochs_c = opt.niterC\n",
    "# loss function for linear classifier\n",
    "class_criterion = nn.CrossEntropyLoss()"
   ]
  },
  {
   "cell_type": "code",
   "execution_count": 50,
   "metadata": {},
   "outputs": [
    {
     "name": "stdout",
     "output_type": "stream",
     "text": [
      "training on train set...\n",
      "testing on test set...\n",
      "[0/20]  train_loss: 1.4283  test_loss: 1.3032  train_acc: 49.6119  test_acc: 53.9163\n",
      "training on train set...\n",
      "testing on test set...\n",
      "[1/20]  train_loss: 1.3107  test_loss: 1.2733  train_acc: 54.1553  test_acc: 54.7977\n",
      "training on train set...\n",
      "testing on test set...\n",
      "[2/20]  train_loss: 1.2809  test_loss: 1.2674  train_acc: 55.2217  test_acc: 56.0497\n",
      "training on train set...\n",
      "testing on test set...\n",
      "[3/20]  train_loss: 1.2574  test_loss: 1.2524  train_acc: 56.3040  test_acc: 55.9996\n",
      "training on train set...\n",
      "testing on test set...\n",
      "[4/20]  train_loss: 1.2457  test_loss: 1.2623  train_acc: 56.6321  test_acc: 55.6791\n",
      "training on train set...\n",
      "testing on test set...\n",
      "[5/20]  train_loss: 1.2358  test_loss: 1.2807  train_acc: 57.1763  test_acc: 55.3986\n",
      "training on train set...\n",
      "testing on test set...\n",
      "[6/20]  train_loss: 1.2288  test_loss: 1.2552  train_acc: 57.2563  test_acc: 55.8794\n",
      "training on train set...\n",
      "testing on test set...\n",
      "[7/20]  train_loss: 1.2251  test_loss: 1.2430  train_acc: 57.7965  test_acc: 56.4704\n",
      "training on train set...\n",
      "testing on test set...\n",
      "[8/20]  train_loss: 1.2189  test_loss: 1.2028  train_acc: 57.8525  test_acc: 57.7424\n",
      "training on train set...\n",
      "testing on test set...\n",
      "[9/20]  train_loss: 1.2162  test_loss: 1.2023  train_acc: 57.9365  test_acc: 57.5721\n",
      "training on train set...\n",
      "testing on test set...\n",
      "[10/20]  train_loss: 1.2120  test_loss: 1.2169  train_acc: 58.1866  test_acc: 57.7524\n",
      "training on train set...\n",
      "testing on test set...\n",
      "[11/20]  train_loss: 1.2079  test_loss: 1.1889  train_acc: 58.3107  test_acc: 58.7039\n",
      "training on train set...\n",
      "testing on test set...\n",
      "[12/20]  train_loss: 1.2055  test_loss: 1.2101  train_acc: 58.5347  test_acc: 57.7123\n",
      "training on train set...\n",
      "testing on test set...\n",
      "[13/20]  train_loss: 1.1997  test_loss: 1.2011  train_acc: 58.5547  test_acc: 58.2232\n",
      "training on train set...\n",
      "testing on test set...\n",
      "[14/20]  train_loss: 1.2011  test_loss: 1.2269  train_acc: 58.5567  test_acc: 57.0713\n",
      "training on train set...\n",
      "testing on test set...\n",
      "[15/20]  train_loss: 1.1976  test_loss: 1.2729  train_acc: 58.8348  test_acc: 56.6206\n",
      "training on train set...\n",
      "testing on test set...\n",
      "[16/20]  train_loss: 1.1973  test_loss: 1.1907  train_acc: 58.5327  test_acc: 58.6338\n",
      "training on train set...\n",
      "testing on test set...\n",
      "[17/20]  train_loss: 1.1988  test_loss: 1.2057  train_acc: 58.6328  test_acc: 58.1931\n",
      "training on train set...\n",
      "testing on test set...\n",
      "[18/20]  train_loss: 1.1954  test_loss: 1.2185  train_acc: 58.8028  test_acc: 57.5321\n",
      "training on train set...\n",
      "testing on test set...\n",
      "[19/20]  train_loss: 1.1957  test_loss: 1.2209  train_acc: 58.8208  test_acc: 57.5020\n",
      "Classifier successfully saved.\n",
      "Accuracies successfully saved.\n"
     ]
    }
   ],
   "source": [
    "# initialize linear classifier\n",
    "classifier = OutputClassifier(nz, num_classes=num_classes)\n",
    "classifier.to(device)\n",
    "optimizerC = optim.SGD(classifier.parameters(), lr=opt.lrC)\n",
    "\n",
    "for epoch in range(n_epochs_c):\n",
    "\n",
    "    store_train_acc = []\n",
    "    store_test_acc = []\n",
    "    store_train_loss = []\n",
    "    store_test_loss = []\n",
    "\n",
    "    print(\"training on train set...\")\n",
    "\n",
    "    for feature, label in linear_train_loader:\n",
    "        feature, label = feature.to(device), label.to(device)\n",
    "        classifier.train()\n",
    "        optimizerC.zero_grad()\n",
    "        class_output = classifier(feature)\n",
    "        # compute classif error\n",
    "        class_err = class_criterion(class_output, label)\n",
    "        # update classifier with backprop\n",
    "        class_err.backward()\n",
    "        optimizerC.step()\n",
    "        # store train metrics\n",
    "        train_acc = compute_acc(class_output, label)\n",
    "        store_train_acc.append(train_acc)\n",
    "        store_train_loss.append(class_err.item())\n",
    "\n",
    "\n",
    "    print(\"testing on test set...\")\n",
    "    # compute test accuracy\n",
    "    for feature, label in linear_test_loader:\n",
    "        feature, label = feature.to(device), label.to(device)\n",
    "        classifier.eval()\n",
    "        class_output = classifier(feature)\n",
    "        class_err = class_criterion(class_output, label)\n",
    "        # store test metrics\n",
    "        test_acc = compute_acc(class_output, label)\n",
    "        store_test_acc.append(test_acc)\n",
    "        store_test_loss.append(class_err.item())\n",
    "\n",
    "    print('[%d/%d]  train_loss: %.4f  test_loss: %.4f  train_acc: %.4f  test_acc: %.4f'\n",
    "              % (epoch, n_epochs_c, np.mean(store_train_loss), np.mean(store_test_loss), np.mean(store_train_acc), np.mean(store_test_acc)))\n",
    "\n",
    "\n",
    "\n",
    "torch.save({\n",
    "    'classifier': classifier.state_dict(),\n",
    "}, dir_checkpoint + '/trained_classifier.pth')\n",
    "print(f'Classifier successfully saved.')\n",
    "\n",
    "\n",
    "# train average metrics\n",
    "train_accuracies.append(np.mean(store_train_acc))\n",
    "train_losses.append(np.mean(store_train_loss))\n",
    "# test average metrics\n",
    "test_accuracies.append(np.mean(store_test_acc))\n",
    "test_losses.append(np.mean(store_test_loss))\n",
    "\n",
    "# do checkpointing\n",
    "torch.save({\n",
    "    'train_accuracies': train_accuracies,\n",
    "    'test_accuracies': test_accuracies,\n",
    "    'train_losses': train_losses,\n",
    "    'test_losses': test_losses,\n",
    "}, dir_files+'/accuracies.pth')\n",
    "print(f'Accuracies successfully saved.')\n",
    "\n",
    "\n",
    "# Plot losse and accuracies during training\n",
    "e = np.arange(0, len(train_accuracies))\n",
    "fig = plt.figure(figsize=(10, 5))\n",
    "ax1 = fig.add_subplot(121)\n",
    "ax1.plot(e, train_losses, label='train loss')\n",
    "ax1.plot(e, test_losses, label='test loss')\n",
    "ax1.set_xlabel('epochs')\n",
    "ax1.set_ylabel('loss')\n",
    "ax1.set_title('losses with uns. training')\n",
    "ax1.legend()\n",
    "\n",
    "ax2 = fig.add_subplot(122)\n",
    "ax2.plot(e, train_accuracies, label='train acc')\n",
    "ax2.plot(e, test_accuracies, label='test acc')\n",
    "ax2.set_ylim(0, 100)\n",
    "ax2.set_xlabel('epochs')\n",
    "ax2.set_ylabel('accuracy (%)')\n",
    "ax2.set_title('accuracy with uns. training')\n",
    "ax2.legend()\n",
    "\n",
    "fig.savefig(dir_files + '/linear_classif.pdf')\n",
    "\n",
    "\n",
    "\n",
    "\n"
   ]
  },
  {
   "cell_type": "code",
   "execution_count": 53,
   "metadata": {},
   "outputs": [],
   "source": [
    "# Evaluate linear classifier on test set\n",
    "predictions = []\n",
    "true_labels = []\n",
    "for feature, label in linear_test_loader:\n",
    "    feature = feature.to(device)\n",
    "    classifier.eval()\n",
    "    class_output = classifier(feature)\n",
    "    _, predicted_labels = torch.max(class_output, 1)\n",
    "    predictions.extend(predicted_labels.cpu().numpy())\n",
    "    true_labels.extend(label.cpu().numpy())"
   ]
  },
  {
   "cell_type": "code",
   "execution_count": 54,
   "metadata": {},
   "outputs": [],
   "source": [
    " cm = confusion_matrix(true_labels, predictions)"
   ]
  },
  {
   "cell_type": "code",
   "execution_count": 58,
   "metadata": {},
   "outputs": [
    {
     "data": {
      "image/png": "[encoded data removed]",
      "text/plain": [
       "<Figure size 800x600 with 2 Axes>"
      ]
     },
     "metadata": {},
     "output_type": "display_data"
    }
   ],
   "source": [
    "class_names = [str(i) for i in range(num_classes)]  # Replace with actual class names if available\n",
    "plt.figure(figsize=(8, 6))\n",
    "sns.heatmap(cm, annot=True, fmt=\"d\", xticklabels=class_names, yticklabels=class_names, cmap='Blues')\n",
    "plt.title(\"Confusion Matrix\")\n",
    "plt.xlabel(\"Predicted Label\")\n",
    "plt.ylabel(\"True Label\")\n",
    "plt.show()"
   ]
  }
 ],
 "metadata": {
  "kernelspec": {
   "display_name": "Python 3",
   "language": "python",
   "name": "python3"
  },
  "language_info": {
   "codemirror_mode": {
    "name": "ipython",
    "version": 3
   },
   "file_extension": ".py",
   "mimetype": "text/x-python",
   "name": "python",
   "nbconvert_exporter": "python",
   "pygments_lexer": "ipython3",
   "version": "3.10.7"
  },
  "orig_nbformat": 4
 },
 "nbformat": 4,
 "nbformat_minor": 2
}
