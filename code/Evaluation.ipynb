{
 "cells": [
  {
   "cell_type": "code",
   "execution_count": 204,
   "metadata": {},
   "outputs": [],
   "source": [
    "from __future__ import print_function  # Import the print function from future versions of Python\n",
    "import argparse  # Library for parsing command-line arguments\n",
    "import os  # Library for interacting with the operating system\n",
    "import numpy as np  # Library for numerical operations\n",
    "import torch.optim as optim  # Library for optimization algorithms in PyTorch\n",
    "import matplotlib.pyplot as plt  # Library for plotting\n",
    "import seaborn as sns  # Library for statistical visualization\n",
    "from sklearn.metrics import confusion_matrix  # Function for computing confusion matrix\n",
    "import torch.utils.data  # Utility functions for data loading in PyTorch\n",
    "import torchvision.utils as vutils  # Utility functions for image-related operations\n",
    "from torch.autograd import Variable  # Function for automatic differentiation\n",
    "from functions import *  # Import custom functions from a separate module\n",
    "from model import *  # Import custom model from a separate module"
   ]
  },
  {
   "cell_type": "code",
   "execution_count": 205,
   "metadata": {},
   "outputs": [
    {
     "name": "stdout",
     "output_type": "stream",
     "text": [
      "Namespace(dataset='mnist', dataroot='./datasets/', workers=2, batchSize=64, imageSize=32, nz=256, niterC=20, nf=64, drop=0.0, lrC=0.2, ngpu=1, outf='output', num_classes=10, gpu_id='0')\n"
     ]
    }
   ],
   "source": [
    "parser = argparse.ArgumentParser()\n",
    "parser.add_argument('--dataset', default='mnist', help='cifar10 | imagenet | mnist')\n",
    "parser.add_argument('--dataroot', default='./datasets/', help='path to dataset')\n",
    "parser.add_argument('--workers', type=int, help='number of data loading workers', default=2)\n",
    "parser.add_argument('--batchSize', type=int, default=64, help='input batch size')\n",
    "parser.add_argument('--imageSize', type=int, default=32, help='the height / width of the input image to network')\n",
    "parser.add_argument('--nz', type=int, default=256, help='size of the latent z vector')\n",
    "parser.add_argument('--niterC', type=int, default=20, help='number of epochs to train the classifier')\n",
    "parser.add_argument('--nf', type=int, default=64, help='filters factor')\n",
    "parser.add_argument('--drop', type=float, default=0.0, help='probably of drop out')\n",
    "parser.add_argument('--lrC', type=float, default=0.2, help='learning rate of the classifier, default=0.0002')\n",
    "parser.add_argument('--ngpu', type=int, default=1, help='number of GPUs to use')\n",
    "parser.add_argument('--outf', default='output', help='folder to output images and model checkpoints')\n",
    "parser.add_argument('--num_classes', type=int, default=10, help='Number of classes for AC-GAN')\n",
    "parser.add_argument('--gpu_id', type=str, default='0', help='The ID of the specified GPU')\n",
    "\n",
    "opt, unknown = parser.parse_known_args()\n",
    "print(opt)"
   ]
  },
  {
   "cell_type": "code",
   "execution_count": 206,
   "metadata": {},
   "outputs": [],
   "source": [
    "# Specify the GPU ID if using only 1 GPU\n",
    "os.environ['CUDA_VISIBLE_DEVICES'] = opt.gpu_id\n",
    "\n",
    "# Define the directory paths for saving files and checkpoints\n",
    "dir_files = './results/'+opt.dataset+'/'+opt.outf\n",
    "dir_checkpoint = './checkpoints/'+opt.dataset+'/'+opt.outf\n",
    "\n",
    "# Create the directory for saving files if it doesn't exist\n",
    "try:\n",
    "    os.makedirs(dir_files)\n",
    "except OSError:\n",
    "    pass\n",
    "\n",
    "# Create the directory for saving checkpoints if it doesn't exist\n",
    "try:\n",
    "    os.makedirs(dir_checkpoint)\n",
    "except OSError:\n",
    "    pass\n",
    "\n",
    "# Set the device to use CUDA if available, otherwise use CPU\n",
    "device = torch.device('cuda:0' if torch.cuda.is_available() else 'cpu')\n",
    "\n",
    "# Set the number of training and testing samples based on the dataset\n",
    "if opt.dataset == 'cifar10':\n",
    "    n_train = 50000\n",
    "    n_test = 10000\n",
    "elif opt.dataset == 'svhn':\n",
    "    n_train = 58606\n",
    "    n_test = 14651\n",
    "elif opt.dataset == 'mnist':\n",
    "    n_train = 50000\n",
    "    n_test = 10000\n",
    "elif opt.dataset == 'fashion':\n",
    "    n_train = 50000\n",
    "    n_test = 10000"
   ]
  },
  {
   "attachments": {},
   "cell_type": "markdown",
   "metadata": {},
   "source": [
    "The code first sets the CUDA visible devices environment variable to the specified GPU ID. This is useful when you have multiple GPUs and want to select a specific one to use.\n",
    "\n",
    "Next, the code defines two directory paths: **`dir_files`** and **`dir_checkpoint`**. These paths are used for saving files and checkpoints, respectively. The paths are constructed based on the provided dataset and output folder (**`opt.dataset`** and **`opt.outf`**).\n",
    "\n",
    "The code then attempts to create the directories specified by the directory paths. If the directories already exist, the **`OSError`** exception is caught and ignored.\n",
    "\n",
    "The **`device`** variable is set to use CUDA (GPU) if it is available, otherwise it falls back to using the CPU. This allows the code to leverage GPU acceleration if a compatible GPU is present.\n",
    "\n",
    "Finally, the code sets the number of training and testing samples (**`n_train`** and **`n_test`**) based on the selected dataset. Each dataset has a predefined number of training and testing samples, and the code assigns the appropriate values based on the **`opt.dataset`** argument.\n",
    "\n",
    "In summary, this section of the code handles GPU configuration, creates directories for saving files and checkpoints, determines the device (GPU or CPU) to use, and sets the number of training and testing samples based on the selected dataset."
   ]
  },
  {
   "cell_type": "code",
   "execution_count": 207,
   "metadata": {},
   "outputs": [],
   "source": [
    "\n",
    "# Get the train dataset\n",
    "dataset, unorm, img_channels = get_dataset(dataset_name=opt.dataset, dataroot=opt.dataroot, imageSize=opt.imageSize, is_train=True, drop_rate=0.0)\n",
    "# Create a train dataloader using the train dataset\n",
    "train_dataloader = torch.utils.data.DataLoader(dataset, batch_size=n_train, shuffle=True, num_workers=int(opt.workers), drop_last=True)\n",
    "\n",
    "# Get the test dataset\n",
    "test_dataset, unorm, img_channels = get_dataset(dataset_name=opt.dataset, dataroot=opt.dataroot, imageSize=opt.imageSize, is_train=False, drop_rate=0.0)\n",
    "# Create a test dataloader using the test dataset\n",
    "test_dataloader = torch.utils.data.DataLoader(test_dataset, batch_size=n_test, shuffle=False, num_workers=int(opt.workers), drop_last=True)\n"
   ]
  },
  {
   "attachments": {},
   "cell_type": "markdown",
   "metadata": {},
   "source": [
    "The code first calls the **`get_dataset`** function to obtain the train dataset. The function takes several arguments: **`dataset_name`** specifies the name of the dataset (e.g., \"mnist\", \"cifar10\"), **`dataroot`** specifies the path to the dataset, **`imageSize`** specifies the height and width of the input images to the network, **`is_train`** is set to **`True`** indicating that this is the train dataset, and **`drop_rate`** specifies the probability of dropout (set to 0.0 in this case). The function returns the train dataset, **`unorm`** (which is not used in this code), and **`img_channels`** (the number of channels in the input images).\n",
    "\n",
    "Next, a train dataloader is created using the train dataset. The **`torch.utils.data.DataLoader`** class is used to load the data in batches. The **`dataset`** argument is the train dataset obtained from the previous step. The **`batch_size`** is set to **`n_train`**, which represents the number of training samples. The **`shuffle`** parameter is set to **`True`**, which randomly shuffles the training samples before each epoch. The **`num_workers`** parameter specifies the number of subprocesses to use for data loading. Finally, the **`drop_last`** parameter is set to **`True`**, which drops the last incomplete batch if the dataset size is not divisible by the batch size.\n",
    "\n",
    "The code then follows a similar pattern to obtain the test dataset. The **`get_dataset`** function is called again, but this time **`is_train`** is set to **`False`** to indicate that this is the test dataset. The test dataset, **`test_dataset`**, is then used to create a test dataloader using similar arguments as the train dataloader.\n",
    "\n",
    "In summary, this section of the code retrieves the train and test datasets using the **`get_dataset`** function and creates dataloaders to efficiently load the data in batches for training and testing purposes. The dataloaders are configured with batch size, shuffling, and other parameters to facilitate efficient and effective training and evaluation of the model."
   ]
  },
  {
   "cell_type": "code",
   "execution_count": 208,
   "metadata": {},
   "outputs": [
    {
     "data": {
      "text/plain": [
       "Generator(\n",
       "  (tconv1): Sequential(\n",
       "    (0): ConvTranspose2d(256, 256, kernel_size=(4, 4), stride=(1, 1))\n",
       "    (1): LeakyReLU(negative_slope=0.2, inplace=True)\n",
       "  )\n",
       "  (tconv2): Sequential(\n",
       "    (0): ConvTranspose2d(256, 128, kernel_size=(4, 4), stride=(2, 2), padding=(1, 1))\n",
       "    (1): LeakyReLU(negative_slope=0.2, inplace=True)\n",
       "  )\n",
       "  (tconv3): Sequential(\n",
       "    (0): ConvTranspose2d(128, 64, kernel_size=(4, 4), stride=(2, 2), padding=(1, 1))\n",
       "    (1): LeakyReLU(negative_slope=0.2, inplace=True)\n",
       "  )\n",
       "  (tconv4): Sequential(\n",
       "    (0): ConvTranspose2d(64, 1, kernel_size=(4, 4), stride=(2, 2), padding=(1, 1))\n",
       "    (1): Tanh()\n",
       "  )\n",
       ")"
      ]
     },
     "execution_count": 208,
     "metadata": {},
     "output_type": "execute_result"
    }
   ],
   "source": [
    "# some hyper parameters\n",
    "ngpu = int(opt.ngpu)\n",
    "nz = int(opt.nz)\n",
    "num_classes = int(opt.num_classes)\n",
    "batch_size = opt.batchSize\n",
    "\n",
    "# initiate networks\n",
    "netG = Generator(ngpu, latent_dim=nz, ngf=opt.nf, img_channels=img_channels)\n",
    "netG.apply(initialize_weights)\n",
    "netD = Discriminator(ngpu, latent_dim=nz, ndf=opt.nf, img_channels=img_channels)\n",
    "netD.apply(initialize_weights)\n",
    "# send to GPU\n",
    "netD.to(device)\n",
    "netG.to(device)"
   ]
  },
  {
   "cell_type": "code",
   "execution_count": 209,
   "metadata": {},
   "outputs": [
    {
     "name": "stdout",
     "output_type": "stream",
     "text": [
      "Loading pre-trained model...\n",
      "Use loaded model...\n"
     ]
    }
   ],
   "source": [
    "if os.path.exists(dir_checkpoint+'/trained.pth'):\n",
    "    # Load data from last checkpoint\n",
    "    print('Loading pre-trained model...')\n",
    "    checkpoint = torch.load(dir_checkpoint+'/trained.pth', map_location='cpu')\n",
    "    netG.load_state_dict(checkpoint['generator'])\n",
    "    netD.load_state_dict(checkpoint['discriminator'])\n",
    "    d_losses = checkpoint.get('d_losses', [float('inf')])\n",
    "    g_losses = checkpoint.get('g_losses', [float('inf')])\n",
    "    r_losses = checkpoint.get('r_losses', [float('inf')])\n",
    "    print('Use loaded model...')\n",
    "else:\n",
    "    print('No pre-trained model detected, use randomly initialized network...')"
   ]
  },
  {
   "cell_type": "code",
   "execution_count": 210,
   "metadata": {},
   "outputs": [
    {
     "name": "stdout",
     "output_type": "stream",
     "text": [
      "Loading accuracies...\n"
     ]
    }
   ],
   "source": [
    "train_accuracies = []\n",
    "test_accuracies = []\n",
    "train_losses = []\n",
    "test_losses = []\n",
    "\n",
    "# Check if accuracies file exists\n",
    "if os.path.exists(dir_files+'/accuracies.pth'):\n",
    "    # Load data from last checkpoint\n",
    "    print('Loading accuracies...')\n",
    "    checkpoint = torch.load(dir_files+'/accuracies.pth', map_location='cpu')\n",
    "    # Retrieve train accuracies from the checkpoint, or assign a default value if not found\n",
    "    train_accuracies = checkpoint.get('train_accuracies', [float('inf')])\n",
    "    # Retrieve test accuracies from the checkpoint, or assign a default value if not found\n",
    "    test_accuracies = checkpoint.get('test_accuracies', [float('inf')])\n",
    "    # Retrieve train losses from the checkpoint, or assign a default value if not found\n",
    "    train_losses = checkpoint.get('train_losses', [float('inf')])\n",
    "    # Retrieve test losses from the checkpoint, or assign a default value if not found\n",
    "    test_losses = checkpoint.get('test_losses', [float('inf')])\n",
    "else:\n",
    "    print('No accuracies found...')\n"
   ]
  },
  {
   "attachments": {},
   "cell_type": "markdown",
   "metadata": {},
   "source": [
    "The code initializes four empty lists: **`train_accuracies`**, **`test_accuracies`**, **`train_losses`**, and **`test_losses`**. These lists will be used to store the accuracy and loss values during training and testing.\n",
    "\n",
    "The code then checks if a file named \"accuracies.pth\" exists in the specified directory (**`dir_files+'/accuracies.pth'`**). This file is expected to contain previously saved accuracy and loss values from a previous checkpoint.\n",
    "\n",
    "If the file exists, the code proceeds to load the data from the last checkpoint. It prints a message indicating that the accuracies are being loaded.\n",
    "\n",
    "The **`torch.load()`** function is used to load the checkpoint data from the file. The **`map_location`** parameter is set to **`'cpu'`** to ensure compatibility in case the checkpoint was saved on a different device. The loaded checkpoint is stored in the **`checkpoint`** variable.\n",
    "\n",
    "The code then retrieves the train accuracies, test accuracies, train losses, and test losses from the loaded checkpoint using the **`get()`** method. If any of these values are not found in the checkpoint, a default value of **`[float('inf')]`** is assigned to the corresponding list. This default value of positive infinity (**`inf`**) serves as a placeholder to indicate that the data was not found.\n",
    "\n",
    "If the accuracies file does not exist, the code simply prints a message indicating that no accuracies were found.\n",
    "\n",
    "In summary, this section of the code initializes empty lists for storing accuracy and loss values. It checks if a file containing previously saved accuracies exists, and if so, loads the data from the last checkpoint. If the file does not exist, it prints a message indicating that no accuracies were found."
   ]
  },
  {
   "cell_type": "code",
   "execution_count": 211,
   "metadata": {},
   "outputs": [
    {
     "name": "stdout",
     "output_type": "stream",
     "text": [
      "Storing training representations ...\n"
     ]
    }
   ],
   "source": [
    "# project all train images on latent space\n",
    "print(\"Storing training representations ...\")\n",
    "\n",
    "# Get a batch of images and labels from the training dataloader\n",
    "image, label = next(iter(train_dataloader))\n",
    "image, label = image.to(device), label.to(device)\n",
    "\n",
    "# Set the discriminator network to evaluation mode\n",
    "netD.eval()\n",
    "\n",
    "# Disable gradient computation since we are only interested in the latent representations\n",
    "with torch.no_grad():\n",
    "    # Pass the images through the discriminator network to obtain the latent representations\n",
    "    latent_output, _ = netD(image)\n",
    "    # Move the latent representations and labels to the CPU\n",
    "    train_features = latent_output.cpu()\n",
    "    train_labels = label.cpu().long()\n"
   ]
  },
  {
   "attachments": {},
   "cell_type": "markdown",
   "metadata": {},
   "source": [
    "The code aims to project all the training images onto the latent space using a pre-trained discriminator network (**`netD`**).\n",
    "\n",
    "The code starts by printing a message indicating that the training representations are being stored.\n",
    "\n",
    "Next, it retrieves a batch of images and labels from the training dataloader using the **`next()`** function. These images and labels are then moved to the device (GPU or CPU) specified earlier.\n",
    "\n",
    "The discriminator network (**`netD`**) is set to evaluation mode using the **`.eval()`** method. This is done to ensure that any batch normalization or dropout layers in the network are in evaluation mode and do not update their parameters.\n",
    "\n",
    "Gradient computation is disabled for efficiency since we are only interested in the latent representations, not in training the network. This is done using the **`torch.no_grad()`** context manager.\n",
    "\n",
    "Within the **`torch.no_grad()`** context, the images are passed through the discriminator network (**`netD`**). The **`latent_output`** variable contains the output of the discriminator, which consists of the latent representations and the discriminator's prediction. Since we are only interested in the latent representations, we unpack and store them in the **`train_features`** variable.\n",
    "\n",
    "The labels are also moved to the CPU and stored in the **`train_labels`** variable. They are converted to the **`long`** data type, which is commonly used for representing integer labels.\n",
    "\n",
    "In summary, this section of the code retrieves a batch of training images and labels. It passes the images through the discriminator network to obtain the corresponding latent representations. These latent representations and the labels are then stored for further use in the training process."
   ]
  },
  {
   "cell_type": "code",
   "execution_count": 212,
   "metadata": {},
   "outputs": [
    {
     "name": "stdout",
     "output_type": "stream",
     "text": [
      "Storing validation representations ...\n"
     ]
    }
   ],
   "source": [
    "# project all test images on latent space\n",
    "print(\"Storing validation representations ...\")\n",
    "\n",
    "# Get a batch of images and labels from the test dataloader\n",
    "image, label = next(iter(test_dataloader))\n",
    "image, label = image.to(device), label.to(device)\n",
    "\n",
    "# Set the discriminator network to evaluation mode\n",
    "netD.eval()\n",
    "\n",
    "# Disable gradient computation since we are only interested in the latent representations\n",
    "with torch.no_grad():\n",
    "    # Pass the images through the discriminator network to obtain the latent representations\n",
    "    latent_output, _ = netD(image)\n",
    "    # Move the latent representations and labels to the CPU\n",
    "    test_features = latent_output.cpu()\n",
    "    test_labels = label.cpu().long()\n"
   ]
  },
  {
   "attachments": {},
   "cell_type": "markdown",
   "metadata": {},
   "source": [
    "The code aims to project all the test images onto the latent space using a pre-trained discriminator network (**`netD`**).\n",
    "\n",
    "The code starts by printing a message indicating that the validation representations are being stored.\n",
    "\n",
    "Next, it retrieves a batch of images and labels from the test dataloader using the **`next()`** function. These images and labels are then moved to the device (GPU or CPU) specified earlier.\n",
    "\n",
    "The discriminator network (**`netD`**) is set to evaluation mode using the **`.eval()`** method. This is done to ensure that any batch normalization or dropout layers in the network are in evaluation mode and do not update their parameters.\n",
    "\n",
    "Gradient computation is disabled for efficiency since we are only interested in the latent representations, not in training the network. This is done using the **`torch.no_grad()`** context manager.\n",
    "\n",
    "Within the **`torch.no_grad()`** context, the images are passed through the discriminator network (**`netD`**). The **`latent_output`** variable contains the output of the discriminator, which consists of the latent representations and the discriminator's prediction. Since we are only interested in the latent representations, we unpack and store them in the **`test_features`** variable.\n",
    "\n",
    "The labels are also moved to the CPU and stored in the **`test_labels`** variable. They are converted to the **`long`** data type, which is commonly used for representing integer labels.\n",
    "\n",
    "In summary, this section of the code retrieves a batch of test images and labels. It passes the images through the discriminator network to obtain the corresponding latent representations. These latent representations and the labels are then stored for further evaluation or analysis."
   ]
  },
  {
   "cell_type": "code",
   "execution_count": 213,
   "metadata": {},
   "outputs": [],
   "source": [
    "# create new datasets of latent vectors\n",
    "linear_train_dataset = torch.utils.data.TensorDataset(train_features, train_labels)\n",
    "linear_test_dataset = torch.utils.data.TensorDataset(test_features, test_labels)\n",
    "\n",
    "# create new dataloaders of latent vectors\n",
    "linear_train_loader = torch.utils.data.DataLoader(linear_train_dataset, batch_size=batch_size, shuffle=True, num_workers=opt.workers, drop_last=True)\n",
    "linear_test_loader = torch.utils.data.DataLoader(linear_test_dataset, batch_size=batch_size, shuffle=False, num_workers=opt.workers, drop_last=True)\n"
   ]
  },
  {
   "attachments": {},
   "cell_type": "markdown",
   "metadata": {},
   "source": [
    "The code creates new datasets and dataloaders for the latent vectors obtained from the previous step. These datasets and dataloaders will be used for training and testing a linear classifier.\n",
    "\n",
    "First, a new dataset called **`linear_train_dataset`** is created using the **`torch.utils.data.TensorDataset`** class. It takes the **`train_features`** (latent vectors) and **`train_labels`** (corresponding labels) as inputs. Each sample in the dataset will consist of a latent vector and its associated label.\n",
    "\n",
    "Similarly, a new dataset called **`linear_test_dataset`** is created using the same approach, but using the **`test_features`** and **`test_labels`**.\n",
    "\n",
    "Next, new dataloaders are created for the linear datasets. The **`linear_train_loader`** is created using the **`torch.utils.data.DataLoader`** class, which takes the **`linear_train_dataset`** as input. It specifies the batch size (**`batch_size`**), enables shuffling of the data during training (**`shuffle=True`**), and sets the number of workers for data loading (**`num_workers=opt.workers`**). The **`drop_last=True`** parameter ensures that any incomplete batches at the end of each epoch are dropped.\n",
    "\n",
    "Similarly, the **`linear_test_loader`** is created using the **`torch.utils.data.DataLoader`** class, but with the **`linear_test_dataset`** as input. The **`shuffle`** parameter is set to **`False`** since shuffling is not necessary during testing.\n",
    "\n",
    "In summary, this section of the code creates new datasets and dataloaders for the latent vectors obtained from the previous step. These datasets and dataloaders will be used for training and testing a linear classifier on the latent representations of the data."
   ]
  },
  {
   "cell_type": "code",
   "execution_count": 214,
   "metadata": {},
   "outputs": [],
   "source": [
    "# nb of epochs to train linear classifier\n",
    "n_epochs_c = opt.niterC\n",
    "# loss function for linear classifier\n",
    "class_criterion = nn.CrossEntropyLoss()"
   ]
  },
  {
   "attachments": {},
   "cell_type": "markdown",
   "metadata": {},
   "source": [
    "The code sets the number of epochs to train the linear classifier (**`n_epochs_c`**) and defines the loss function (**`class_criterion`**) to be used for training the classifier.\n",
    "\n",
    "The variable **`n_epochs_c`** is assigned the value of **`opt.niterC`**, which is the number of epochs specified in the command-line arguments (**`--niterC`**). It determines how many times the linear classifier will iterate over the training data during training.\n",
    "\n",
    "The **`class_criterion`** is initialized as an instance of the **`nn.CrossEntropyLoss()`** class. This loss function is commonly used for multi-class classification problems. It combines the softmax function and the negative log-likelihood loss to compute the loss between the predicted class probabilities and the true labels. It is suitable for training a linear classifier to classify the latent vectors into their respective classes.\n",
    "\n",
    "In summary, this section of the code sets the number of epochs for training the linear classifier and initializes the loss function to be used during training."
   ]
  },
  {
   "cell_type": "code",
   "execution_count": null,
   "metadata": {},
   "outputs": [],
   "source": [
    "# Initialize lists for metrics\n",
    "train_accuracies = []\n",
    "train_losses = []\n",
    "test_accuracies = []\n",
    "test_losses = []\n",
    "\n",
    "# Initialize linear classifier\n",
    "classifier = OutputClassifier(nz, num_classes=num_classes)\n",
    "classifier.to(device)\n",
    "optimizerC = optim.SGD(classifier.parameters(), lr=opt.lrC)\n",
    "\n",
    "for epoch in range(n_epochs_c):\n",
    "    store_train_acc = []\n",
    "    store_test_acc = []\n",
    "    store_train_loss = []\n",
    "    store_test_loss = []\n",
    "\n",
    "    print(\"Training on train set...\")\n",
    "    \n",
    "    # Iterate over the training data\n",
    "    for feature, label in linear_train_loader:\n",
    "        feature, label = feature.to(device), label.to(device)\n",
    "        classifier.train()\n",
    "        optimizerC.zero_grad()\n",
    "        # Forward pass through the linear classifier\n",
    "        class_output = classifier(feature)\n",
    "        # Compute the classification error\n",
    "        class_err = class_criterion(class_output, label)\n",
    "        # Backpropagation and update of the classifier's parameters\n",
    "        class_err.backward()\n",
    "        optimizerC.step()\n",
    "        # Store train metrics\n",
    "        train_acc = compute_acc(class_output, label)\n",
    "        store_train_acc.append(train_acc)\n",
    "        store_train_loss.append(class_err.item())\n",
    "\n",
    "    print(\"Testing on test set...\")\n",
    "    # Compute test accuracy\n",
    "    for feature, label in linear_test_loader:\n",
    "        feature, label = feature.to(device), label.to(device)\n",
    "        classifier.eval()\n",
    "        # Forward pass through the linear classifier\n",
    "        class_output = classifier(feature)\n",
    "        class_err = class_criterion(class_output, label)\n",
    "        # Store test metrics\n",
    "        test_acc = compute_acc(class_output, label)\n",
    "        store_test_acc.append(test_acc)\n",
    "        store_test_loss.append(class_err.item())\n",
    "\n",
    "    # Print and save metrics for the current epoch\n",
    "    print('[%d/%d]  train_loss: %.4f  test_loss: %.4f  train_acc: %.4f  test_acc: %.4f'\n",
    "          % (epoch, n_epochs_c, np.mean(store_train_loss), np.mean(store_test_loss),\n",
    "             np.mean(store_train_acc), np.mean(store_test_acc)))\n",
    "    \n",
    "    # Save the trained classifier\n",
    "    torch.save({'classifier': classifier.state_dict()}, dir_checkpoint + '/trained_classifier.pth')\n",
    "    print(f'Classifier successfully saved.')\n",
    "\n",
    "    # Append average metrics for the current epoch\n",
    "    train_accuracies.append(np.mean(store_train_acc))\n",
    "    train_losses.append(np.mean(store_train_loss))\n",
    "    test_accuracies.append(np.mean(store_test_acc))\n",
    "    test_losses.append(np.mean(store_test_loss))\n",
    "\n",
    "# Save the accuracies\n",
    "torch.save({\n",
    "    'train_accuracies': train_accuracies,\n",
    "    'test_accuracies': test_accuracies,\n",
    "    'train_losses': train_losses,\n",
    "    'test_losses': test_losses,\n",
    "}, dir_files + '/accuracies.pth')\n",
    "print(f'Accuracies successfully saved.')\n",
    "\n",
    "# Plot losses and accuracies during training\n",
    "epochs = np.arange(0, len(train_accuracies))\n",
    "fig, (ax1, ax2) = plt.subplots(1, 2, figsize=(10, 5))\n",
    "ax1.plot(epochs, train_losses, label='train loss')\n",
    "ax1.plot(epochs, test_losses, label='test loss')\n",
    "ax1.set_xlabel('epochs')\n",
    "ax1.set_ylabel('loss')\n",
    "ax1.set_title('Losses with Unsupervised Training')\n",
    "ax1.legend()\n",
    "\n",
    "ax2.plot(epochs, train_accuracies, label='train acc')\n",
    "ax2.plot(epochs, test_accuracies, label='test acc')\n",
    "ax2.set_ylim(0, 100)\n",
    "ax2.set_xlabel('epochs')\n",
    "ax2.set_ylabel('accuracy (%)')\n",
    "ax2.set_title('Accuracy with Unsupervised Training')\n",
    "ax2.legend()\n",
    "\n",
    "fig.savefig(dir_files + '/linear_classif1.pdf')\n",
    "plt.tight_layout()\n",
    "plt.show()\n"
   ]
  },
  {
   "attachments": {},
   "cell_type": "markdown",
   "metadata": {},
   "source": [
    "This code trains a linear classifier using the latent vectors obtained from the unsupervised training. Here are the steps:\n",
    "\n",
    "1. The lists **`train_accuracies`**, **`train_losses`**, **`test_accuracies`**, and **`test_losses`** are initialized to store the metrics during training.\n",
    "2. An instance of the **`OutputClassifier`** class is created and moved to the appropriate device (CPU or GPU). The classifier is responsible for mapping the latent vectors to class labels.\n",
    "3. The optimizer for the linear classifier is defined as stochastic gradient descent (SGD) with the learning rate specified in the command-line arguments (**`opt.lrC`**).\n",
    "4. The training loop begins with iterating over the specified number of epochs (**`n_epochs_c`**).\n",
    "5. For each epoch, temporary lists **`store_train_acc`**, **`store_test_acc`**, **`store_train_loss`**, and **`store_test_loss`** are initialized to store the metrics for each batch.\n",
    "6. The training process starts by printing \"Training on train set...\" and iterating over the batches in the **`linear_train_loader`**.\n",
    "7. Inside the loop, the feature vectors and labels are moved to the appropriate device. The classifier is set to the training mode (**`classifier.train()`**), the optimizer's gradients are zeroed (**`optimizerC.zero_grad()`**), and the feature vectors are passed through the classifier (**`class_output = classifier(feature)`**).\n",
    "8. The classification error is computed using the specified loss function (**`class_criterion`**) by comparing the predicted class outputs with the true labels.\n",
    "9. The backpropagation step is performed to compute the gradients and update the parameters of the classifier (**`class_err.backward()`** and **`optimizerC.step()`**).\n",
    "10. The training accuracy is computed using the **`compute_acc()`** function, and the train metrics are appended to the temporary lists.\n",
    "11. After the completion of the training loop, \"Testing on test set...\" is printed, and the testing process begins by iterating over the batches in the **`linear_test_loader`**.\n",
    "12. Inside the testing loop, the feature vectors and labels are moved to the appropriate device. The classifier is set to the evaluation mode (**`classifier.eval()`**), and the feature vectors are passed through the classifier to obtain the class outputs.\n",
    "13. The classification error and test accuracy are computed, and the metrics are stored in the respective temporary lists.\n",
    "14. The average train and test metrics for the current epoch are printed.\n",
    "15. The trained classifier is saved to a file.\n",
    "16. The average metrics for the current epoch are appended to the respective lists for later analysis.\n",
    "17. After the completion of all epochs, the train and test accuracies, as well as the train and test losses, are saved to a file.\n",
    "18. The losses and accuracies are plotted over the epochs using **`matplotlib`**. Two subplots are created for loss and accuracy, and the plots are saved as a PDF file.\n",
    "19. Finally, the plots are displayed on the screen.\n",
    "\n",
    "In summary, this code trains a linear classifier using the latent vectors obtained from unsupervised training. It performs forward and backward passes through the classifier, updates its parameters using gradient descent, and computes and stores the training and testing metrics. The classifier's performance is evaluated and saved at each epoch, and the overall metrics are saved and plotted for analysis."
   ]
  },
  {
   "cell_type": "code",
   "execution_count": 216,
   "metadata": {},
   "outputs": [],
   "source": [
    "# Evaluate linear classifier on test set\n",
    "predictions = []\n",
    "true_labels = []\n",
    "for feature, label in linear_test_loader:\n",
    "    feature = feature.to(device)\n",
    "    classifier.eval()\n",
    "    class_output = classifier(feature)\n",
    "    _, predicted_labels = torch.max(class_output, 1)\n",
    "    predictions.extend(predicted_labels.cpu().numpy())\n",
    "    true_labels.extend(label.cpu().numpy())"
   ]
  },
  {
   "cell_type": "code",
   "execution_count": 217,
   "metadata": {},
   "outputs": [],
   "source": [
    " cm = confusion_matrix(true_labels, predictions)"
   ]
  },
  {
   "cell_type": "code",
   "execution_count": 218,
   "metadata": {},
   "outputs": [
    {
     "data": {
      "image/png": "[encoded data removed]",
      "text/plain": [
       "<Figure size 800x600 with 2 Axes>"
      ]
     },
     "metadata": {},
     "output_type": "display_data"
    }
   ],
   "source": [
    "class_names = [str(i) for i in range(num_classes)]  # Replace with actual class names if available\n",
    "plt.figure(figsize=(8, 6))\n",
    "sns.heatmap(cm, annot=True, fmt=\"d\", xticklabels=class_names, yticklabels=class_names, cmap='Blues')\n",
    "plt.title(\"Confusion Matrix\")\n",
    "plt.xlabel(\"Predicted Label\")\n",
    "plt.ylabel(\"True Label\")\n",
    "plt.show()"
   ]
  },
  {
   "cell_type": "code",
   "execution_count": null,
   "metadata": {},
   "outputs": [],
   "source": []
  }
 ],
 "metadata": {
  "kernelspec": {
   "display_name": "Python 3",
   "language": "python",
   "name": "python3"
  },
  "language_info": {
   "codemirror_mode": {
    "name": "ipython",
    "version": 3
   },
   "file_extension": ".py",
   "mimetype": "text/x-python",
   "name": "python",
   "nbconvert_exporter": "python",
   "pygments_lexer": "ipython3",
   "version": "3.10.7"
  },
  "orig_nbformat": 4
 },
 "nbformat": 4,
 "nbformat_minor": 2
}
